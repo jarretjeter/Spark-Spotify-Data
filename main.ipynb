{
 "cells": [
  {
   "cell_type": "code",
   "execution_count": 1,
   "metadata": {},
   "outputs": [
    {
     "name": "stderr",
     "output_type": "stream",
     "text": [
      "22/06/24 09:13:19 WARN Utils: Your hostname, DESKTOP-EJLBN3A resolves to a loopback address: 127.0.1.1; using 172.20.24.149 instead (on interface eth0)\n",
      "22/06/24 09:13:19 WARN Utils: Set SPARK_LOCAL_IP if you need to bind to another address\n",
      "WARNING: An illegal reflective access operation has occurred\n",
      "WARNING: Illegal reflective access by org.apache.spark.unsafe.Platform (file:/home/jarret/data-engineering-bootcamp/workspace/spark-spotify-data/venv/lib/python3.7/site-packages/pyspark/jars/spark-unsafe_2.12-3.1.2.jar) to constructor java.nio.DirectByteBuffer(long,int)\n",
      "WARNING: Please consider reporting this to the maintainers of org.apache.spark.unsafe.Platform\n",
      "WARNING: Use --illegal-access=warn to enable warnings of further illegal reflective access operations\n",
      "WARNING: All illegal access operations will be denied in a future release\n",
      "22/06/24 09:13:20 WARN NativeCodeLoader: Unable to load native-hadoop library for your platform... using builtin-java classes where applicable\n",
      "Using Spark's default log4j profile: org/apache/spark/log4j-defaults.properties\n",
      "Setting default log level to \"WARN\".\n",
      "To adjust logging level use sc.setLogLevel(newLevel). For SparkR, use setLogLevel(newLevel).\n"
     ]
    }
   ],
   "source": [
    "from pyspark.sql import SparkSession\n",
    "\n",
    "spark = SparkSession.builder.master(\"local\").getOrCreate()"
   ]
  },
  {
   "cell_type": "code",
   "execution_count": 186,
   "metadata": {},
   "outputs": [
    {
     "name": "stderr",
     "output_type": "stream",
     "text": [
      "[Stage 401:>                                                        (0 + 1) / 1]\r"
     ]
    },
    {
     "name": "stdout",
     "output_type": "stream",
     "text": [
      "root\n",
      " |-- row: string (nullable = true)\n",
      " |-- artist_popularity: string (nullable = true)\n",
      " |-- followers: string (nullable = true)\n",
      " |-- genres: string (nullable = true)\n",
      " |-- id: string (nullable = true)\n",
      " |-- name: string (nullable = true)\n",
      " |-- track_id: string (nullable = true)\n",
      " |-- track_name_prev: string (nullable = true)\n",
      " |-- type: string (nullable = true)\n",
      "\n",
      "+--------------------+--------------------+\n",
      "|                name|              genres|\n",
      "+--------------------+--------------------+\n",
      "|       Juliano Cezar|['sertanejo', 'se...|\n",
      "|      The Grenadines|                  []|\n",
      "|             Gangway| ['danish pop rock']|\n",
      "|               FADES|['uk alternative ...|\n",
      "| Jean-Pierre Guignon|  ['french baroque']|\n",
      "|              Filhos|                  []|\n",
      "|                Eloq|                  []|\n",
      "|              Fravær|                  []|\n",
      "|       Camille Pépin|                  []|\n",
      "|Pepe Willberg & T...|['classic finnish...|\n",
      "+--------------------+--------------------+\n",
      "only showing top 10 rows\n",
      "\n"
     ]
    },
    {
     "name": "stderr",
     "output_type": "stream",
     "text": [
      "                                                                                \r"
     ]
    }
   ],
   "source": [
    "# Reads the csv in the data directory into a spark dataframe\n",
    "spark_df = (spark.read.format(\"csv\").options(header=\"true\").load(\"./data/spotify_artists.csv\"))\n",
    "\n",
    "### DATA PROFILING\n",
    "\n",
    "# .describe(), with no arguments prints the dataframe column datatypes \n",
    "spark_df.describe()\n",
    "spark_df.printSchema()\n",
    "spark_df.select(spark_df.name, spark_df.genres).show(10)"
   ]
  },
  {
   "cell_type": "code",
   "execution_count": 195,
   "metadata": {},
   "outputs": [
    {
     "name": "stdout",
     "output_type": "stream",
     "text": [
      "+---+-----------------+---------+------------------+--------------------+---------------+--------------------+---------------+------+\n",
      "|row|artist_popularity|followers|            genres|                  id|           name|            track_id|track_name_prev|  type|\n",
      "+---+-----------------+---------+------------------+--------------------+---------------+--------------------+---------------+------+\n",
      "|183|               17|        0|['elevator music']|2abmxnEVQZwz9OyQI...|   Ulla Bundies|7qgSj7dGFXzpOokCG...|       track_52|artist|\n",
      "|397|               16|        0|['elevator music']|4K30jReY7UXKmG1Q9...|        Freakey|5BnIW8UZd357YhiG8...|       track_51|artist|\n",
      "|187|               17|        0|['elevator music']|3zUhefdYPJXQFFVI7...|Mathieu Dubroca|06H4iu0jgHv9jwZ3N...|       track_55|artist|\n",
      "| 53|                2|        0|['elevator music']|7uLlA3ipeSM7lUSmr...|           BiGz|0ebArfrdaqfhwOmBP...|      track_110|artist|\n",
      "|193|               27|        0|['elevator music']|48kI1YFUxGb92t9Vv...|      Josef Zák|7Bdop7N4EKLMk4riE...|       track_90|artist|\n",
      "| 25|               21|        0|['elevator music']|6CJCoqivxcdr8zlVe...|   Reiko Tsuiki|7Bdop7N4EKLMk4riE...|       track_92|artist|\n",
      "|245|                4|        0|['elevator music']|5ImRopHLaLeCh23ta...|     Nancy Cano|7xeszoUWLV5Jz1VR5...|       track_60|artist|\n",
      "|159|               24|        0|['elevator music']|7jLr9hLgm1Ly5PNgV...|  Joseph Havlat|3N01VrOyYKruhFbFp...|       track_97|artist|\n",
      "|255|                5|        0|['elevator music']|34GjZMS9OneCAzsZx...|Ana María Villa|4WowPWhLtNjSw47Yl...|       track_28|artist|\n",
      "|362|               11|        0|['elevator music']|6wClMLQhzDKFShiNh...|             RV|4Y12dauu1aALQbbK9...|       track_39|artist|\n",
      "+---+-----------------+---------+------------------+--------------------+---------------+--------------------+---------------+------+\n",
      "only showing top 10 rows\n",
      "\n",
      "+---+-----------------+---------+------------------+--------------------+--------------------+--------------------+---------------+------+\n",
      "|row|artist_popularity|followers|            genres|                  id|                name|            track_id|track_name_prev|  type|\n",
      "+---+-----------------+---------+------------------+--------------------+--------------------+--------------------+---------------+------+\n",
      "|115|               22|        0|['elevator music']|1BEyKcixGeLyvFwGA...|Carl Philipp Emanuel|3G3qLFFcPo4khWwE1...|       track_64|artist|\n",
      "|183|               17|        0|['elevator music']|2abmxnEVQZwz9OyQI...|        Ulla Bundies|7qgSj7dGFXzpOokCG...|       track_52|artist|\n",
      "|127|               26|        0|['elevator music']|2c7DYeJYKrfO53y45...|          Léo margue|56fBsCXwpBnxe4JkF...|       track_77|artist|\n",
      "+---+-----------------+---------+------------------+--------------------+--------------------+--------------------+---------------+------+\n",
      "only showing top 3 rows\n",
      "\n",
      "+-----+-----------------+---------+--------------------+--------------------+----------+--------------------+---------------+------+\n",
      "|  row|artist_popularity|followers|              genres|                  id|      name|            track_id|track_name_prev|  type|\n",
      "+-----+-----------------+---------+--------------------+--------------------+----------+--------------------+---------------+------+\n",
      "|55251|               92| 41561693|   ['pop', 'uk pop']|6eUKZXaKkcviH0Ku9...|Ed Sheeran|7qiZfU4dY1lWllzX7...|       track_35|artist|\n",
      "|53392|               98| 34680740|['canadian hip ho...|3TVXtAsR1Inumwj47...|     Drake|116H0KvKr2Zl4RPuV...|       track_71|artist|\n",
      "|52620|               90| 30560149|['dance pop', 'po...|5pKCCKE2ajJHZ9KAi...|   Rihanna|2Ce5IyMlVRVvN997Z...|       track_38|artist|\n",
      "+-----+-----------------+---------+--------------------+--------------------+----------+--------------------+---------------+------+\n",
      "only showing top 3 rows\n",
      "\n"
     ]
    }
   ],
   "source": [
    "### DATA CLEANING\n",
    "\n",
    "# Where the genre is an empty list, replace it with ['elevator music'].\n",
    "# For the columns 'artist_popularity' and 'followers', cast the data type as integers.\n",
    "# Sort the data in descending order by number of followers.\n",
    "# 'artist_popularity' is a rank out of 100. Write a user defined function that will divide each popularity value by 100. Rename the column 'popularity_percent'.\n",
    "\n",
    "from pyspark.sql.functions import regexp_replace, col, udf\n",
    "from pyspark.sql.types import IntegerType\n",
    "\n",
    "# Replace the genres column's empty list values with ['elevator music]\n",
    "# spark_df.filter(\"genres = '[]' \").show(10)\n",
    "spark_df = spark_df.withColumn(\"genres\", regexp_replace(\"genres\", r\"\\[]\", r\"['elevator music']\"))\n",
    "spark_df.show(10)\n",
    "\n",
    "spark_df = spark_df.withColumn(\"artist_popularity\", spark_df[\"artist_popularity\"].cast(IntegerType()))\n",
    "spark_df = spark_df.withColumn(\"followers\", spark_df[\"followers\"].cast(IntegerType()))\n",
    "spark_df.dtypes\n",
    "\n",
    "# two different ways to use sort (though the sort order changes..) \n",
    "# .sort() without also passing col() left me unable to use the .withColumn() method afterwards\n",
    "spark_df.show(3)\n",
    "# spark_df = spark_df.sort(\"followers\", descending=True)\n",
    "spark_df = spark_df.sort(col(\"followers\").desc())\n",
    "spark_df.show(3)\n",
    "\n",
    "def div_by_100(num):\n",
    "    \"\"\"\n",
    "    Divide a column with type int by 100, obtaining a percentage\n",
    "    \"\"\"\n",
    "    num = num/100\n",
    "    return num\n",
    "\n",
    "udf_div_by_100 = udf(lambda x:div_by_100(x))\n",
    "\n",
    "spark_df.withColumn()"
   ]
  }
 ],
 "metadata": {
  "kernelspec": {
   "display_name": "Python 3.7.13 ('venv': venv)",
   "language": "python",
   "name": "python3"
  },
  "language_info": {
   "codemirror_mode": {
    "name": "ipython",
    "version": 3
   },
   "file_extension": ".py",
   "mimetype": "text/x-python",
   "name": "python",
   "nbconvert_exporter": "python",
   "pygments_lexer": "ipython3",
   "version": "3.7.13"
  },
  "orig_nbformat": 4,
  "vscode": {
   "interpreter": {
    "hash": "5f6b9f9b842c19c27f882e1499c58dd59e96903115b923e0d5cef0df38d5dfc4"
   }
  }
 },
 "nbformat": 4,
 "nbformat_minor": 2
}
