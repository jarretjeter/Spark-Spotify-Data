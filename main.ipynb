{
 "cells": [
  {
   "cell_type": "code",
   "execution_count": 1,
   "metadata": {},
   "outputs": [
    {
     "name": "stderr",
     "output_type": "stream",
     "text": [
      "22/06/24 09:13:19 WARN Utils: Your hostname, DESKTOP-EJLBN3A resolves to a loopback address: 127.0.1.1; using 172.20.24.149 instead (on interface eth0)\n",
      "22/06/24 09:13:19 WARN Utils: Set SPARK_LOCAL_IP if you need to bind to another address\n",
      "WARNING: An illegal reflective access operation has occurred\n",
      "WARNING: Illegal reflective access by org.apache.spark.unsafe.Platform (file:/home/jarret/data-engineering-bootcamp/workspace/spark-spotify-data/venv/lib/python3.7/site-packages/pyspark/jars/spark-unsafe_2.12-3.1.2.jar) to constructor java.nio.DirectByteBuffer(long,int)\n",
      "WARNING: Please consider reporting this to the maintainers of org.apache.spark.unsafe.Platform\n",
      "WARNING: Use --illegal-access=warn to enable warnings of further illegal reflective access operations\n",
      "WARNING: All illegal access operations will be denied in a future release\n",
      "22/06/24 09:13:20 WARN NativeCodeLoader: Unable to load native-hadoop library for your platform... using builtin-java classes where applicable\n",
      "Using Spark's default log4j profile: org/apache/spark/log4j-defaults.properties\n",
      "Setting default log level to \"WARN\".\n",
      "To adjust logging level use sc.setLogLevel(newLevel). For SparkR, use setLogLevel(newLevel).\n"
     ]
    }
   ],
   "source": [
    "from pyspark.sql import SparkSession\n",
    "\n",
    "spark = SparkSession.builder.master(\"local\").getOrCreate()"
   ]
  },
  {
   "cell_type": "code",
   "execution_count": 57,
   "metadata": {},
   "outputs": [
    {
     "name": "stderr",
     "output_type": "stream",
     "text": [
      "[Stage 147:>                                                        (0 + 1) / 1]\r"
     ]
    },
    {
     "name": "stdout",
     "output_type": "stream",
     "text": [
      "root\n",
      " |-- row: string (nullable = true)\n",
      " |-- artist_popularity: string (nullable = true)\n",
      " |-- followers: string (nullable = true)\n",
      " |-- genres: string (nullable = true)\n",
      " |-- id: string (nullable = true)\n",
      " |-- name: string (nullable = true)\n",
      " |-- track_id: string (nullable = true)\n",
      " |-- track_name_prev: string (nullable = true)\n",
      " |-- type: string (nullable = true)\n",
      "\n",
      "+--------------------+--------------------+\n",
      "|                name|              genres|\n",
      "+--------------------+--------------------+\n",
      "|       Juliano Cezar|['sertanejo', 'se...|\n",
      "|      The Grenadines|                  []|\n",
      "|             Gangway| ['danish pop rock']|\n",
      "|               FADES|['uk alternative ...|\n",
      "| Jean-Pierre Guignon|  ['french baroque']|\n",
      "|              Filhos|                  []|\n",
      "|                Eloq|                  []|\n",
      "|              Fravær|                  []|\n",
      "|       Camille Pépin|                  []|\n",
      "|Pepe Willberg & T...|['classic finnish...|\n",
      "+--------------------+--------------------+\n",
      "only showing top 10 rows\n",
      "\n"
     ]
    },
    {
     "name": "stderr",
     "output_type": "stream",
     "text": [
      "                                                                                \r"
     ]
    }
   ],
   "source": [
    "# Reads the csv in the data directory into a spark dataframe\n",
    "spark_df = (spark.read.format(\"csv\").options(header=\"true\").load(\"./data/spotify_artists.csv\"))\n",
    "\n",
    "### DATA PROFILING\n",
    "\n",
    "# .describe(), with no arguments prints the dataframe column datatypes \n",
    "spark_df.describe()\n",
    "spark_df.printSchema()\n",
    "spark_df.select(spark_df.name, spark_df.genres).show(10)"
   ]
  },
  {
   "cell_type": "code",
   "execution_count": 134,
   "metadata": {},
   "outputs": [
    {
     "name": "stdout",
     "output_type": "stream",
     "text": [
      "+--------------------+\n",
      "|              genres|\n",
      "+--------------------+\n",
      "|['sertanejo', 'se...|\n",
      "|                  []|\n",
      "| ['danish pop rock']|\n",
      "|['uk alternative ...|\n",
      "|  ['french baroque']|\n",
      "+--------------------+\n",
      "only showing top 5 rows\n",
      "\n",
      "+---+-----------------+---------+--------------------+--------------------+--------------------+--------------------+---------------+------+\n",
      "|row|artist_popularity|followers|              genres|                  id|                name|            track_id|track_name_prev|  type|\n",
      "+---+-----------------+---------+--------------------+--------------------+--------------------+--------------------+---------------+------+\n",
      "|  0|               44|    23230|['sertanejo', 'se...|4mGnpjhqgx4RUdsIJ...|       Juliano Cezar|0wmDmAILuW9e2aRtt...|        track_9|artist|\n",
      "|  1|               22|      313|  ['elevator music']|1dLnVku4VQUOLswwD...|      The Grenadines|4wqwj0gA8qPZKLl5W...|       track_30|artist|\n",
      "|  2|               26|     1596| ['danish pop rock']|6YVY310fjfUzKi8hi...|             Gangway|1bFqWDbvHmZe2f4Nf...|       track_38|artist|\n",
      "|  3|               31|      149|['uk alternative ...|2VElyouiCfoYPDJlu...|               FADES|3MFSUBAidPzRBbIS7...|       track_34|artist|\n",
      "|  4|               21|       11|  ['french baroque']|4agVy03qW8juSysCT...| Jean-Pierre Guignon|2r3q57FhxdsCyYr0k...|       track_26|artist|\n",
      "|  5|               43|       81|  ['elevator music']|38VBjthd0szbS6wpD...|              Filhos|453KeZU566kjNfs1I...|       track_15|artist|\n",
      "|  6|               34|     8358|  ['elevator music']|36mHwYa65L0WZbAXY...|                Eloq|6hC5Tl0S5aQCw646J...|       track_43|artist|\n",
      "|  7|                7|      158|  ['elevator music']|1jJyy00XfxjB4tMAv...|              Fravær|5005eeCJ9KTFAAzh2...|       track_48|artist|\n",
      "|  8|               21|       30|  ['elevator music']|10A8WbBJ0zW8MnvTs...|       Camille Pépin|56fBsCXwpBnxe4JkF...|       track_73|artist|\n",
      "|  9|               25|      992|['classic finnish...|5ijoPCUhV0dW8EJ7a...|Pepe Willberg & T...|6WVlVPoesX2zVvJzZ...|        track_8|artist|\n",
      "+---+-----------------+---------+--------------------+--------------------+--------------------+--------------------+---------------+------+\n",
      "only showing top 10 rows\n",
      "\n"
     ]
    }
   ],
   "source": [
    "### DATA CLEANING\n",
    "from pyspark.sql.functions import regexp_replace\n",
    "\n",
    "spark_df.select(\"genres\").show(5)\n",
    "# spark_df.filter(\"genres = '[]' \").show(10)\n",
    "spark_df.withColumn(\"genres\", regexp_replace(\"genres\", r\"\\[]\", r\"['elevator music']\")).show(10)"
   ]
  }
 ],
 "metadata": {
  "kernelspec": {
   "display_name": "Python 3.7.13 ('venv': venv)",
   "language": "python",
   "name": "python3"
  },
  "language_info": {
   "codemirror_mode": {
    "name": "ipython",
    "version": 3
   },
   "file_extension": ".py",
   "mimetype": "text/x-python",
   "name": "python",
   "nbconvert_exporter": "python",
   "pygments_lexer": "ipython3",
   "version": "3.7.13"
  },
  "orig_nbformat": 4,
  "vscode": {
   "interpreter": {
    "hash": "5f6b9f9b842c19c27f882e1499c58dd59e96903115b923e0d5cef0df38d5dfc4"
   }
  }
 },
 "nbformat": 4,
 "nbformat_minor": 2
}
