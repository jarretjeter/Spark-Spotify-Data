{
 "cells": [
  {
   "cell_type": "code",
   "execution_count": 1,
   "metadata": {},
   "outputs": [
    {
     "name": "stderr",
     "output_type": "stream",
     "text": [
      "22/06/24 09:13:19 WARN Utils: Your hostname, DESKTOP-EJLBN3A resolves to a loopback address: 127.0.1.1; using 172.20.24.149 instead (on interface eth0)\n",
      "22/06/24 09:13:19 WARN Utils: Set SPARK_LOCAL_IP if you need to bind to another address\n",
      "WARNING: An illegal reflective access operation has occurred\n",
      "WARNING: Illegal reflective access by org.apache.spark.unsafe.Platform (file:/home/jarret/data-engineering-bootcamp/workspace/spark-spotify-data/venv/lib/python3.7/site-packages/pyspark/jars/spark-unsafe_2.12-3.1.2.jar) to constructor java.nio.DirectByteBuffer(long,int)\n",
      "WARNING: Please consider reporting this to the maintainers of org.apache.spark.unsafe.Platform\n",
      "WARNING: Use --illegal-access=warn to enable warnings of further illegal reflective access operations\n",
      "WARNING: All illegal access operations will be denied in a future release\n",
      "22/06/24 09:13:20 WARN NativeCodeLoader: Unable to load native-hadoop library for your platform... using builtin-java classes where applicable\n",
      "Using Spark's default log4j profile: org/apache/spark/log4j-defaults.properties\n",
      "Setting default log level to \"WARN\".\n",
      "To adjust logging level use sc.setLogLevel(newLevel). For SparkR, use setLogLevel(newLevel).\n"
     ]
    }
   ],
   "source": [
    "from pyspark.sql import SparkSession\n",
    "\n",
    "spark = SparkSession.builder.master(\"local\").getOrCreate()"
   ]
  },
  {
   "cell_type": "code",
   "execution_count": 201,
   "metadata": {},
   "outputs": [
    {
     "name": "stderr",
     "output_type": "stream",
     "text": [
      "[Stage 454:>                                                        (0 + 1) / 1]\r"
     ]
    },
    {
     "name": "stdout",
     "output_type": "stream",
     "text": [
      "root\n",
      " |-- row: string (nullable = true)\n",
      " |-- artist_popularity: string (nullable = true)\n",
      " |-- followers: string (nullable = true)\n",
      " |-- genres: string (nullable = true)\n",
      " |-- id: string (nullable = true)\n",
      " |-- name: string (nullable = true)\n",
      " |-- track_id: string (nullable = true)\n",
      " |-- track_name_prev: string (nullable = true)\n",
      " |-- type: string (nullable = true)\n",
      "\n",
      "+--------------------+--------------------+\n",
      "|                name|              genres|\n",
      "+--------------------+--------------------+\n",
      "|       Juliano Cezar|['sertanejo', 'se...|\n",
      "|      The Grenadines|                  []|\n",
      "|             Gangway| ['danish pop rock']|\n",
      "|               FADES|['uk alternative ...|\n",
      "| Jean-Pierre Guignon|  ['french baroque']|\n",
      "|              Filhos|                  []|\n",
      "|                Eloq|                  []|\n",
      "|              Fravær|                  []|\n",
      "|       Camille Pépin|                  []|\n",
      "|Pepe Willberg & T...|['classic finnish...|\n",
      "+--------------------+--------------------+\n",
      "only showing top 10 rows\n",
      "\n"
     ]
    },
    {
     "name": "stderr",
     "output_type": "stream",
     "text": [
      "                                                                                \r"
     ]
    }
   ],
   "source": [
    "### DATA PROFILING\n",
    "\n",
    "# Reads the csv in the data directory into a spark dataframe\n",
    "spark_df = (spark.read.format(\"csv\").options(header=\"true\").load(\"./data/spotify_artists.csv\"))\n",
    "\n",
    "\n",
    "# .describe(), with no arguments prints the dataframe column datatypes \n",
    "spark_df.describe()\n",
    "spark_df.printSchema()\n",
    "# select allows you to pick specific columns of the dataframe, and perform operation on if you choose.\n",
    "spark_df.select(spark_df.name, spark_df.genres).show(10)"
   ]
  },
  {
   "cell_type": "code",
   "execution_count": 210,
   "metadata": {},
   "outputs": [
    {
     "name": "stdout",
     "output_type": "stream",
     "text": [
      "+---+-----------------+---------+--------------------+--------------------+--------------------+--------------------+---------------+------+\n",
      "|row|artist_popularity|followers|              genres|                  id|                name|            track_id|track_name_prev|  type|\n",
      "+---+-----------------+---------+--------------------+--------------------+--------------------+--------------------+---------------+------+\n",
      "|  0|               44|    23230|['sertanejo', 'se...|4mGnpjhqgx4RUdsIJ...|       Juliano Cezar|0wmDmAILuW9e2aRtt...|        track_9|artist|\n",
      "|  1|               22|      313|  ['elevator music']|1dLnVku4VQUOLswwD...|      The Grenadines|4wqwj0gA8qPZKLl5W...|       track_30|artist|\n",
      "|  2|               26|     1596| ['danish pop rock']|6YVY310fjfUzKi8hi...|             Gangway|1bFqWDbvHmZe2f4Nf...|       track_38|artist|\n",
      "|  3|               31|      149|['uk alternative ...|2VElyouiCfoYPDJlu...|               FADES|3MFSUBAidPzRBbIS7...|       track_34|artist|\n",
      "|  4|               21|       11|  ['french baroque']|4agVy03qW8juSysCT...| Jean-Pierre Guignon|2r3q57FhxdsCyYr0k...|       track_26|artist|\n",
      "|  5|               43|       81|  ['elevator music']|38VBjthd0szbS6wpD...|              Filhos|453KeZU566kjNfs1I...|       track_15|artist|\n",
      "|  6|               34|     8358|  ['elevator music']|36mHwYa65L0WZbAXY...|                Eloq|6hC5Tl0S5aQCw646J...|       track_43|artist|\n",
      "|  7|                7|      158|  ['elevator music']|1jJyy00XfxjB4tMAv...|              Fravær|5005eeCJ9KTFAAzh2...|       track_48|artist|\n",
      "|  8|               21|       30|  ['elevator music']|10A8WbBJ0zW8MnvTs...|       Camille Pépin|56fBsCXwpBnxe4JkF...|       track_73|artist|\n",
      "|  9|               25|      992|['classic finnish...|5ijoPCUhV0dW8EJ7a...|Pepe Willberg & T...|6WVlVPoesX2zVvJzZ...|        track_8|artist|\n",
      "+---+-----------------+---------+--------------------+--------------------+--------------------+--------------------+---------------+------+\n",
      "only showing top 10 rows\n",
      "\n",
      "[('row', 'string'), ('artist_popularity', 'int'), ('followers', 'int'), ('genres', 'string'), ('id', 'string'), ('name', 'string'), ('track_id', 'string'), ('track_name_prev', 'string'), ('type', 'string')]\n",
      "+-----+-----------------+---------+--------------------+--------------------+----------+--------------------+---------------+------+\n",
      "|  row|artist_popularity|followers|              genres|                  id|      name|            track_id|track_name_prev|  type|\n",
      "+-----+-----------------+---------+--------------------+--------------------+----------+--------------------+---------------+------+\n",
      "|55251|               92| 41561693|   ['pop', 'uk pop']|6eUKZXaKkcviH0Ku9...|Ed Sheeran|7qiZfU4dY1lWllzX7...|       track_35|artist|\n",
      "|53392|               98| 34680740|['canadian hip ho...|3TVXtAsR1Inumwj47...|     Drake|116H0KvKr2Zl4RPuV...|       track_71|artist|\n",
      "|52620|               90| 30560149|['dance pop', 'po...|5pKCCKE2ajJHZ9KAi...|   Rihanna|2Ce5IyMlVRVvN997Z...|       track_38|artist|\n",
      "+-----+-----------------+---------+--------------------+--------------------+----------+--------------------+---------------+------+\n",
      "only showing top 3 rows\n",
      "\n",
      "+-----+------------------+---------+--------------------+--------------------+----------+--------------------+---------------+------+\n",
      "|  row|popularity_percent|followers|              genres|                  id|      name|            track_id|track_name_prev|  type|\n",
      "+-----+------------------+---------+--------------------+--------------------+----------+--------------------+---------------+------+\n",
      "|55251|              0.92| 41561693|   ['pop', 'uk pop']|6eUKZXaKkcviH0Ku9...|Ed Sheeran|7qiZfU4dY1lWllzX7...|       track_35|artist|\n",
      "|53392|              0.98| 34680740|['canadian hip ho...|3TVXtAsR1Inumwj47...|     Drake|116H0KvKr2Zl4RPuV...|       track_71|artist|\n",
      "|52620|               0.9| 30560149|['dance pop', 'po...|5pKCCKE2ajJHZ9KAi...|   Rihanna|2Ce5IyMlVRVvN997Z...|       track_38|artist|\n",
      "+-----+------------------+---------+--------------------+--------------------+----------+--------------------+---------------+------+\n",
      "only showing top 3 rows\n",
      "\n"
     ]
    }
   ],
   "source": [
    "### DATA CLEANING\n",
    "\n",
    "from pyspark.sql.functions import regexp_replace, col, udf\n",
    "from pyspark.sql.types import IntegerType\n",
    "\n",
    "spark_df = (spark.read.format(\"csv\").options(header=\"true\").load(\"./data/spotify_artists.csv\"))\n",
    "\n",
    "# Replace the genres column's empty list values with ['elevator music']\n",
    "# spark_df.filter(\"genres = '[]' \").show(10)\n",
    "spark_df = spark_df.withColumn(\"genres\", regexp_replace(\"genres\", r\"\\[]\", r\"['elevator music']\"))\n",
    "spark_df.show(10)\n",
    "\n",
    "# Change these column data types from string to integer so that arithmetic can be performed on them further down\n",
    "spark_df = spark_df.withColumn(\"artist_popularity\", spark_df[\"artist_popularity\"].cast(IntegerType()))\n",
    "spark_df = spark_df.withColumn(\"followers\", spark_df[\"followers\"].cast(IntegerType()))\n",
    "print(spark_df.dtypes)\n",
    "\n",
    "# Two different ways to use sort (though the sort order changes..) \n",
    "# .sort() without also passing col() left me unable to use the .withColumn() method afterwards, so with col() was preferred\n",
    "# spark_df = spark_df.sort(\"followers\", descending=True)\n",
    "spark_df = spark_df.sort(col(\"followers\").desc())\n",
    "spark_df.show(3)\n",
    "\n",
    "# Here I define a function that I can use to apply arithmetic to a column value\n",
    "def div_by_100(num):\n",
    "    \"\"\"\n",
    "    Divide a column with type int by 100, obtaining a percentage\n",
    "    \"\"\"\n",
    "    num = num/100\n",
    "    return num\n",
    "\n",
    "# Assign a user defined function to work across an entire column\n",
    "udf_div_by_100 = udf(lambda x:div_by_100(x))\n",
    "\n",
    "# Use of said function\n",
    "spark_df = spark_df.withColumn(\"artist_popularity\", udf_div_by_100(\"artist_popularity\"))\n",
    "spark_df = spark_df.withColumnRenamed(\"artist_popularity\", \"popularity_percent\")\n",
    "spark_df.show(3)"
   ]
  },
  {
   "cell_type": "code",
   "execution_count": 220,
   "metadata": {},
   "outputs": [
    {
     "name": "stdout",
     "output_type": "stream",
     "text": [
      "+-----+------------------+---------+--------------------+--------------------+-----+--------------------+---------------+------+\n",
      "|  row|popularity_percent|followers|              genres|                  id| name|            track_id|track_name_prev|  type|\n",
      "+-----+------------------+---------+--------------------+--------------------+-----+--------------------+---------------+------+\n",
      "|39126|              0.94| 14130233|['glam rock', 'ro...|1dfeR4HaWDbWqFHLk...|Queen|5oidljiMjeJTWUGZ4...|       track_12|artist|\n",
      "+-----+------------------+---------+--------------------+--------------------+-----+--------------------+---------------+------+\n",
      "\n",
      "+--------+\n",
      "|count(1)|\n",
      "+--------+\n",
      "|     625|\n",
      "|       1|\n",
      "|     441|\n",
      "|      96|\n",
      "|     489|\n",
      "+--------+\n",
      "only showing top 5 rows\n",
      "\n"
     ]
    }
   ],
   "source": [
    "### EXTRACT INFORMATION\n",
    "\n",
    "# Create a SQL table of the current dataframe for querying\n",
    "spark_df.createOrReplaceTempView(\"spark_tbl\")\n",
    "spark.sql(\"SELECT * FROM spark_tbl WHERE name = 'Queen'\").show(5)\n",
    "spark.sql(\"SELECT COUNT(*) FROM spark_tbl GROUP BY POPULARITY_PERCENT\").show(5)"
   ]
  },
  {
   "cell_type": "code",
   "execution_count": 226,
   "metadata": {},
   "outputs": [
    {
     "name": "stdout",
     "output_type": "stream",
     "text": [
      "+---+------------------+---------+------------------+--------------------+--------------------+--------------------+---------------+------+\n",
      "|row|popularity_percent|followers|            genres|                  id|                name|            track_id|track_name_prev|  type|\n",
      "+---+------------------+---------+------------------+--------------------+--------------------+--------------------+---------------+------+\n",
      "| 25|              0.21|        0|['elevator music']|6CJCoqivxcdr8zlVe...|        Reiko Tsuiki|7Bdop7N4EKLMk4riE...|       track_92|artist|\n",
      "| 53|              0.02|        0|['elevator music']|7uLlA3ipeSM7lUSmr...|                BiGz|0ebArfrdaqfhwOmBP...|      track_110|artist|\n",
      "|107|               0.2|        0|['elevator music']|6WxTDr3eh88JEx91L...|      Roldán Bernabé|2r3q57FhxdsCyYr0k...|       track_28|artist|\n",
      "|115|              0.22|        0|['elevator music']|1BEyKcixGeLyvFwGA...|Carl Philipp Emanuel|3G3qLFFcPo4khWwE1...|       track_64|artist|\n",
      "|127|              0.26|        0|['elevator music']|2c7DYeJYKrfO53y45...|          Léo margue|56fBsCXwpBnxe4JkF...|       track_77|artist|\n",
      "|159|              0.24|        0|['elevator music']|7jLr9hLgm1Ly5PNgV...|       Joseph Havlat|3N01VrOyYKruhFbFp...|       track_97|artist|\n",
      "|183|              0.17|        0|['elevator music']|2abmxnEVQZwz9OyQI...|        Ulla Bundies|7qgSj7dGFXzpOokCG...|       track_52|artist|\n",
      "|187|              0.17|        0|['elevator music']|3zUhefdYPJXQFFVI7...|     Mathieu Dubroca|06H4iu0jgHv9jwZ3N...|       track_55|artist|\n",
      "|193|              0.27|        0|['elevator music']|48kI1YFUxGb92t9Vv...|           Josef Zák|7Bdop7N4EKLMk4riE...|       track_90|artist|\n",
      "|245|              0.04|        0|['elevator music']|5ImRopHLaLeCh23ta...|          Nancy Cano|7xeszoUWLV5Jz1VR5...|       track_60|artist|\n",
      "+---+------------------+---------+------------------+--------------------+--------------------+--------------------+---------------+------+\n",
      "only showing top 10 rows\n",
      "\n"
     ]
    }
   ],
   "source": [
    "### SAVE AS PARQUET\n",
    "\n",
    "# Simply writing the transformed dataframe to a parquet file and reading it back\n",
    "# spark_df.write.parquet(\"./data/spotify_artists.parquet\")\n",
    "spark_parq = spark.read.parquet(\"./data/spotify_artists.parquet/\")\n",
    "spark_parq.show(10)"
   ]
  }
 ],
 "metadata": {
  "kernelspec": {
   "display_name": "Python 3.7.13 ('venv': venv)",
   "language": "python",
   "name": "python3"
  },
  "language_info": {
   "codemirror_mode": {
    "name": "ipython",
    "version": 3
   },
   "file_extension": ".py",
   "mimetype": "text/x-python",
   "name": "python",
   "nbconvert_exporter": "python",
   "pygments_lexer": "ipython3",
   "version": "3.7.13"
  },
  "orig_nbformat": 4,
  "vscode": {
   "interpreter": {
    "hash": "5f6b9f9b842c19c27f882e1499c58dd59e96903115b923e0d5cef0df38d5dfc4"
   }
  }
 },
 "nbformat": 4,
 "nbformat_minor": 2
}
