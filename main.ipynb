{
 "cells": [
  {
   "cell_type": "code",
   "execution_count": 1,
   "metadata": {},
   "outputs": [
    {
     "name": "stderr",
     "output_type": "stream",
     "text": [
      "22/06/24 09:13:19 WARN Utils: Your hostname, DESKTOP-EJLBN3A resolves to a loopback address: 127.0.1.1; using 172.20.24.149 instead (on interface eth0)\n",
      "22/06/24 09:13:19 WARN Utils: Set SPARK_LOCAL_IP if you need to bind to another address\n",
      "WARNING: An illegal reflective access operation has occurred\n",
      "WARNING: Illegal reflective access by org.apache.spark.unsafe.Platform (file:/home/jarret/data-engineering-bootcamp/workspace/spark-spotify-data/venv/lib/python3.7/site-packages/pyspark/jars/spark-unsafe_2.12-3.1.2.jar) to constructor java.nio.DirectByteBuffer(long,int)\n",
      "WARNING: Please consider reporting this to the maintainers of org.apache.spark.unsafe.Platform\n",
      "WARNING: Use --illegal-access=warn to enable warnings of further illegal reflective access operations\n",
      "WARNING: All illegal access operations will be denied in a future release\n",
      "22/06/24 09:13:20 WARN NativeCodeLoader: Unable to load native-hadoop library for your platform... using builtin-java classes where applicable\n",
      "Using Spark's default log4j profile: org/apache/spark/log4j-defaults.properties\n",
      "Setting default log level to \"WARN\".\n",
      "To adjust logging level use sc.setLogLevel(newLevel). For SparkR, use setLogLevel(newLevel).\n"
     ]
    }
   ],
   "source": [
    "from pyspark.sql import SparkSession\n",
    "\n",
    "spark = SparkSession.builder.master(\"local\").getOrCreate()"
   ]
  },
  {
   "cell_type": "code",
   "execution_count": 147,
   "metadata": {},
   "outputs": [
    {
     "name": "stderr",
     "output_type": "stream",
     "text": [
      "[Stage 332:>                                                        (0 + 1) / 1]\r"
     ]
    },
    {
     "name": "stdout",
     "output_type": "stream",
     "text": [
      "root\n",
      " |-- row: string (nullable = true)\n",
      " |-- artist_popularity: string (nullable = true)\n",
      " |-- followers: string (nullable = true)\n",
      " |-- genres: string (nullable = true)\n",
      " |-- id: string (nullable = true)\n",
      " |-- name: string (nullable = true)\n",
      " |-- track_id: string (nullable = true)\n",
      " |-- track_name_prev: string (nullable = true)\n",
      " |-- type: string (nullable = true)\n",
      "\n",
      "+--------------------+--------------------+\n",
      "|                name|              genres|\n",
      "+--------------------+--------------------+\n",
      "|       Juliano Cezar|['sertanejo', 'se...|\n",
      "|      The Grenadines|                  []|\n",
      "|             Gangway| ['danish pop rock']|\n",
      "|               FADES|['uk alternative ...|\n",
      "| Jean-Pierre Guignon|  ['french baroque']|\n",
      "|              Filhos|                  []|\n",
      "|                Eloq|                  []|\n",
      "|              Fravær|                  []|\n",
      "|       Camille Pépin|                  []|\n",
      "|Pepe Willberg & T...|['classic finnish...|\n",
      "+--------------------+--------------------+\n",
      "only showing top 10 rows\n",
      "\n"
     ]
    },
    {
     "name": "stderr",
     "output_type": "stream",
     "text": [
      "                                                                                \r"
     ]
    }
   ],
   "source": [
    "# Reads the csv in the data directory into a spark dataframe\n",
    "spark_df = (spark.read.format(\"csv\").options(header=\"true\").load(\"./data/spotify_artists.csv\"))\n",
    "\n",
    "### DATA PROFILING\n",
    "\n",
    "# .describe(), with no arguments prints the dataframe column datatypes \n",
    "spark_df.describe()\n",
    "spark_df.printSchema()\n",
    "spark_df.select(spark_df.name, spark_df.genres).show(10)"
   ]
  },
  {
   "cell_type": "code",
   "execution_count": 170,
   "metadata": {},
   "outputs": [
    {
     "data": {
      "text/plain": [
       "[('row', 'string'),\n",
       " ('artist_popularity', 'int'),\n",
       " ('followers', 'int'),\n",
       " ('genres', 'string'),\n",
       " ('id', 'string'),\n",
       " ('name', 'string'),\n",
       " ('track_id', 'string'),\n",
       " ('track_name_prev', 'string'),\n",
       " ('type', 'string')]"
      ]
     },
     "execution_count": 170,
     "metadata": {},
     "output_type": "execute_result"
    }
   ],
   "source": [
    "### DATA CLEANING\n",
    "\n",
    "# Where the genre is an empty list, replace it with ['elevator music'].\n",
    "# For the columns 'artist_popularity' and 'followers', cast the data type as integers.\n",
    "# Sort the data in descending order by number of followers.\n",
    "# 'artist_popularity' is a rank out of 100. Write a user defined function that will divide each popularity value by 100. Rename the column 'popularity_percent'.\n",
    "\n",
    "from pyspark.sql.functions import regexp_replace\n",
    "from pyspark.sql.types import IntegerType\n",
    "\n",
    "# Replace the genres column's empty list values with ['elevator music]\n",
    "# spark_df.filter(\"genres = '[]' \").show(10)\n",
    "spark_df = spark_df.withColumn(\"genres\", regexp_replace(\"genres\", r\"\\[]\", r\"['elevator music']\"))\n",
    "# spark_df.show(10)\n",
    "\n",
    "spark_df = spark_df.withColumn(\"artist_popularity\", spark_df[\"artist_popularity\"].cast(IntegerType()))\n",
    "spark_df = spark_df.withColumn(\"followers\", spark_df[\"followers\"].cast(IntegerType()))\n",
    "spark_df.dtypes"
   ]
  }
 ],
 "metadata": {
  "kernelspec": {
   "display_name": "Python 3.7.13 ('venv': venv)",
   "language": "python",
   "name": "python3"
  },
  "language_info": {
   "codemirror_mode": {
    "name": "ipython",
    "version": 3
   },
   "file_extension": ".py",
   "mimetype": "text/x-python",
   "name": "python",
   "nbconvert_exporter": "python",
   "pygments_lexer": "ipython3",
   "version": "3.7.13"
  },
  "orig_nbformat": 4,
  "vscode": {
   "interpreter": {
    "hash": "5f6b9f9b842c19c27f882e1499c58dd59e96903115b923e0d5cef0df38d5dfc4"
   }
  }
 },
 "nbformat": 4,
 "nbformat_minor": 2
}
